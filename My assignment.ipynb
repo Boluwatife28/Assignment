{
 "cells": [
  {
   "cell_type": "markdown",
   "id": "cf7a3bab-5ba7-4be7-8032-3d46bc2d4381",
   "metadata": {},
   "source": [
    "My Jupyter Notebook on IBM Watson Studio"
   ]
  },
  {
   "cell_type": "markdown",
   "id": "8a05e528-716b-496d-a361-284fb30e998e",
   "metadata": {},
   "source": [
    "Boluwatife Ajibade"
   ]
  },
  {
   "cell_type": "markdown",
   "id": "07d2f357-d87f-4f1e-8571-4c3807cad1dc",
   "metadata": {},
   "source": [
    "100% human"
   ]
  },
  {
   "cell_type": "markdown",
   "id": "5858db25-a150-4a5a-a48f-01b0f1826459",
   "metadata": {},
   "source": [
    "I am interested in Data Science because I love to gain insights from data"
   ]
  },
  {
   "cell_type": "code",
   "execution_count": 1,
   "id": "8e2be72a-ac78-4fab-94b8-48a66845e438",
   "metadata": {},
   "outputs": [
    {
     "data": {
      "text/plain": [
       "True"
      ]
     },
     "execution_count": 1,
     "metadata": {},
     "output_type": "execute_result"
    }
   ],
   "source": [
    "def gauss(n):\n",
    "    return (n*(n+1))/2\n",
    "\n",
    "gauss(100) == sum(range(101))"
   ]
  }
 ],
 "metadata": {
  "kernelspec": {
   "display_name": "Python",
   "language": "python",
   "name": "conda-env-python-py"
  },
  "language_info": {
   "codemirror_mode": {
    "name": "ipython",
    "version": 3
   },
   "file_extension": ".py",
   "mimetype": "text/x-python",
   "name": "python",
   "nbconvert_exporter": "python",
   "pygments_lexer": "ipython3",
   "version": "3.7.12"
  }
 },
 "nbformat": 4,
 "nbformat_minor": 5
}
